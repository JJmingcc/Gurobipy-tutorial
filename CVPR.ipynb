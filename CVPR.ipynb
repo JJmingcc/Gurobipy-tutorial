{
 "cells": [
  {
   "cell_type": "markdown",
   "metadata": {},
   "source": [
    "<h2>Capacitated Vehicle Routing problem<h2>\n"
   ]
  },
  {
   "cell_type": "markdown",
   "metadata": {},
   "source": [
    "\n",
    "In this problem, we will explore the CVRP. Before going to details, let's first discuss the networtk topology: \n",
    "\n",
    "- $n$: the number of clients \n",
    "- $\\mathcal{N}$: Set of clients with $N = \\{1,2,3,4,\\dots,n\\}$\n",
    "- $\\mathcal{V}$: Set of vetices (or nodes), with $V = \\{0\\} \\cup N$\n",
    "- $A$ is set of arcs, with $\\mathcal{A} = \\{(i,j) \\in V^2: i \\neq j  \\}$\n",
    "- $c_{i,j}$ is cost of travel over arc $(i,j) \\in \\mathcal{A}$\n",
    "- $Q$ is the vehicle capacity\n",
    "- $q_i$ is the amount that has to be delivered to customer $i \\in \\mathcal{N}$\n",
    "\n",
    "Then, the formulation is the following:\n",
    "\n",
    "\\begin{align}\n",
    "    & \\sum_{i,j \\in \\mathcal{A}} ~~ c_{i,j} x_{i,j} \\\\\n",
    "     \\text{s.t} & ~~ \\sum_{j \\in \\mathcal{V, j \\neq i}} x_{i,j} = 1, ~ \\forall i \\\\\n",
    "    & \\sum_{i \\in \\mathcal{V, i \\neq j}} x_{i,j} = 1, ~ \\forall j \\\\\n",
    "    & u_i + q_j = u_j ~ \\text{if} ~ x_{i,j} = 1, ~ \\forall i,j \\in \\mathcal{A}: i,j \\neq 0 \\\\\n",
    "    & q_i \\leq u_i \\leq Q, ~~ \\forall i \\\\\n",
    "    & x_{i,j} \\in \\{0,1\\}, ~~ \\forall i,j\n",
    "\\end{align}"
   ]
  },
  {
   "cell_type": "code",
   "execution_count": 1,
   "metadata": {},
   "outputs": [],
   "source": [
    "import numpy as np\n",
    "import matplotlib.pyplot as plt\n",
    "\n",
    "rnd = np.random\n",
    "rnd.seed(3)\n"
   ]
  },
  {
   "cell_type": "code",
   "execution_count": 2,
   "metadata": {},
   "outputs": [
    {
     "data": {
      "text/plain": [
       "<matplotlib.collections.PathCollection at 0x253e2e47820>"
      ]
     },
     "execution_count": 2,
     "metadata": {},
     "output_type": "execute_result"
    },
    {
     "data": {
      "image/png": "[encoded data removed]",
      "text/plain": [
       "<Figure size 432x288 with 1 Axes>"
      ]
     },
     "metadata": {
      "needs_background": "light"
     },
     "output_type": "display_data"
    }
   ],
   "source": [
    "n = 25 # number of clients\n",
    "xc = rnd.rand(n+1)*200\n",
    "yc = rnd.rand(n+1)*100\n",
    "plt.plot(xc[0], yc[0], c='r', marker='s')\n",
    "plt.scatter(xc[1:], yc[1:], c='b')"
   ]
  },
  {
   "cell_type": "code",
   "execution_count": 3,
   "metadata": {},
   "outputs": [
    {
     "data": {
      "text/plain": [
       "{1: 2,\n",
       " 2: 5,\n",
       " 3: 2,\n",
       " 4: 3,\n",
       " 5: 3,\n",
       " 6: 5,\n",
       " 7: 9,\n",
       " 8: 1,\n",
       " 9: 7,\n",
       " 10: 1,\n",
       " 11: 5,\n",
       " 12: 2,\n",
       " 13: 6,\n",
       " 14: 2,\n",
       " 15: 9,\n",
       " 16: 9,\n",
       " 17: 8,\n",
       " 18: 1,\n",
       " 19: 1,\n",
       " 20: 2,\n",
       " 21: 8,\n",
       " 22: 9,\n",
       " 23: 8,\n",
       " 24: 5,\n",
       " 25: 1}"
      ]
     },
     "execution_count": 3,
     "metadata": {},
     "output_type": "execute_result"
    }
   ],
   "source": [
    "N = [i for i in range(1, n+1)]\n",
    "V = [0] + N\n",
    "A = [(i,j) for i in V for j in V if i != j]\n",
    "# save the distance as dictionary for A\n",
    "c = {(i,j): np.hypot(xc[i]-xc[j], yc[i]-yc[j]) for i,j in A}\n",
    "Q = 30\n",
    "q = {i: rnd.randint(1,10) for i in N}\n",
    "q"
   ]
  },
  {
   "cell_type": "code",
   "execution_count": 4,
   "metadata": {},
   "outputs": [
    {
     "name": "stdout",
     "output_type": "stream",
     "text": [
      "Set parameter Username\n",
      "Academic license - for non-commercial use only - expires 2024-07-23\n",
      "Set parameter MIPGap to value 0.1\n",
      "Set parameter TimeLimit to value 30\n",
      "Gurobi Optimizer version 10.0.3 build v10.0.3rc0 (win64)\n",
      "\n",
      "CPU model: 11th Gen Intel(R) Core(TM) i7-11700KF @ 3.60GHz, instruction set [SSE2|AVX|AVX2|AVX512]\n",
      "Thread count: 8 physical cores, 16 logical processors, using up to 16 threads\n",
      "\n",
      "Optimize a model with 100 rows, 675 columns and 1300 nonzeros\n",
      "Model fingerprint: 0xf98973e4\n",
      "Model has 600 general constraints\n",
      "Variable types: 25 continuous, 650 integer (650 binary)\n",
      "Coefficient statistics:\n",
      "  Matrix range     [1e+00, 1e+00]\n",
      "  Objective range  [2e+00, 2e+02]\n",
      "  Bounds range     [1e+00, 1e+00]\n",
      "  RHS range        [1e+00, 3e+01]\n",
      "  GenCon rhs range [1e+00, 9e+00]\n",
      "  GenCon coe range [1e+00, 1e+00]\n",
      "Presolve added 1340 rows and 245 columns\n",
      "Presolve time: 0.04s\n",
      "Presolved: 1440 rows, 920 columns, 8991 nonzeros\n",
      "Variable types: 270 continuous, 650 integer (650 binary)\n",
      "Found heuristic solution: objective 2769.3198621\n",
      "\n",
      "Root relaxation: objective 5.609869e+02, 107 iterations, 0.00 seconds (0.00 work units)\n",
      "\n",
      "    Nodes    |    Current Node    |     Objective Bounds      |     Work\n",
      " Expl Unexpl |  Obj  Depth IntInf | Incumbent    BestBd   Gap | It/Node Time\n",
      "\n",
      "     0     0  560.98692    0   50 2769.31986  560.98692  79.7%     -    0s\n",
      "H    0     0                    2664.0389781  560.98692  78.9%     -    0s\n",
      "H    0     0                    1203.0890508  560.98692  53.4%     -    0s\n",
      "     0     0  587.14564    0   55 1203.08905  587.14564  51.2%     -    0s\n",
      "H    0     0                    1076.0733474  587.14564  45.4%     -    0s\n",
      "H    0     0                    1008.5017159  587.37681  41.8%     -    0s\n",
      "     0     0  587.37681    0   51 1008.50172  587.37681  41.8%     -    0s\n",
      "     0     0  587.37681    0   51 1008.50172  587.37681  41.8%     -    0s\n",
      "H    0     0                    1002.5975447  587.37681  41.4%     -    0s\n",
      "     0     0  589.74368    0   48 1002.59754  589.74368  41.2%     -    0s\n",
      "H    0     0                     946.1424925  589.74368  37.7%     -    0s\n",
      "     0     0  589.74368    0   48  946.14249  589.74368  37.7%     -    0s\n",
      "     0     0  589.74368    0   48  946.14249  589.74368  37.7%     -    0s\n",
      "     0     0  589.74368    0   48  946.14249  589.74368  37.7%     -    0s\n",
      "H    0     0                     930.3184663  589.74368  36.6%     -    0s\n",
      "     0     2  590.75448    0   48  930.31847  590.75448  36.5%     -    0s\n",
      "H   84    93                     926.4559435  593.20879  36.0%  11.4    0s\n",
      "H  167   177                     895.5182446  593.20879  33.8%   9.3    0s\n",
      "H  217   221                     862.1092806  593.20879  31.2%   9.5    0s\n",
      "H 1700  1437                     861.6540010  596.42246  30.8%  10.4    3s\n",
      "  1748  1469  669.31546   20   48  861.65400  596.42246  30.8%  10.7    5s\n",
      " 21009 15893  720.57558   28   50  861.65400  626.71859  27.3%  17.7   10s\n",
      " 43280 29577  678.49820   23   48  861.65400  639.84696  25.7%  19.7   17s\n",
      " 43300 29590  818.30411   51   77  861.65400  639.84696  25.7%  19.7   20s\n",
      " 43321 29609  639.84696   24   61  861.65400  639.84696  25.7%  19.7   25s\n",
      " 44844 30346  675.58537   43   42  861.65400  639.84696  25.7%  19.9   30s\n",
      "\n",
      "Cutting planes:\n",
      "  Learned: 1\n",
      "  Gomory: 53\n",
      "  Cover: 8\n",
      "  Implied bound: 8\n",
      "  Projected implied bound: 8\n",
      "  MIR: 20\n",
      "  Flow cover: 45\n",
      "  Inf proof: 4\n",
      "  Zero half: 8\n",
      "  Relax-and-lift: 4\n",
      "\n",
      "Explored 44860 nodes (895251 simplex iterations) in 30.04 seconds (39.57 work units)\n",
      "Thread count was 16 (of 16 available processors)\n",
      "\n",
      "Solution count 10: 861.654 862.109 895.518 ... 1203.09\n",
      "\n",
      "Time limit reached\n",
      "Best objective 8.616540009858e+02, best bound 6.398469613536e+02, gap 25.7420%\n"
     ]
    }
   ],
   "source": [
    "from gurobipy import Model, GRB, quicksum\n",
    "\n",
    "mdl = Model('CVRP')\n",
    "\n",
    "\n",
    "# set variables\n",
    "x = mdl.addVars(A, vtype=GRB.BINARY, name=\"x\")\n",
    "u = mdl.addVars(N, vtype=GRB.CONTINUOUS, name= \"u\")\n",
    "\n",
    "# set objective\n",
    "mdl.setObjective(quicksum(x[i,j]*c[i,j] for i,j in A), GRB.MINIMIZE)\n",
    "mdl.addConstrs(quicksum(x[i,j] for j in V if j != i) == 1 for i in N)\n",
    "mdl.addConstrs(quicksum(x[i,j] for i in V if i != j) == 1 for j in N)\n",
    "# capacity constraints\n",
    "mdl.addConstrs(u[i] >= q[i] for i in N)\n",
    "mdl.addConstrs(u[i] <= Q for i in N)\n",
    "# sub-tour elimination\n",
    "mdl.addConstrs((x[i,j] == 1) >> (u[i] + q[j] == u[j]) for i,j in A if i != 0 and j != 0)\n",
    "\n",
    "\n",
    "mdl.Params.MIPGap = 0.1 # optimality gap    \n",
    "mdl.Params.TimeLimit = 30 # seconds\n",
    "mdl.optimize()\n",
    "\n"
   ]
  },
  {
   "cell_type": "code",
   "execution_count": 5,
   "metadata": {},
   "outputs": [
    {
     "data": {
      "text/plain": [
       "<matplotlib.collections.PathCollection at 0x253e60b1820>"
      ]
     },
     "execution_count": 5,
     "metadata": {},
     "output_type": "execute_result"
    },
    {
     "data": {
      "image/png": "[encoded data removed]",
      "text/plain": [
       "<Figure size 432x288 with 1 Axes>"
      ]
     },
     "metadata": {
      "needs_background": "light"
     },
     "output_type": "display_data"
    }
   ],
   "source": [
    "active_arcs = [a for a in A if x[a].x > 0.99]\n",
    "for i,j in active_arcs:\n",
    "    plt.plot([xc[i], xc[j]], [yc[i], yc[j]], c='g', zorder=0)   \n",
    "    \n",
    "plt.plot(xc[0], yc[0], c='r', marker='s')\n",
    "plt.scatter(xc[1:], yc[1:], c='b')\n"
   ]
  },
  {
   "cell_type": "code",
   "execution_count": null,
   "metadata": {},
   "outputs": [],
   "source": []
  },
  {
   "cell_type": "code",
   "execution_count": null,
   "metadata": {},
   "outputs": [],
   "source": []
  },
  {
   "cell_type": "markdown",
   "metadata": {},
   "source": []
  }
 ],
 "metadata": {
  "kernelspec": {
   "display_name": "Python 3",
   "language": "python",
   "name": "python3"
  },
  "language_info": {
   "codemirror_mode": {
    "name": "ipython",
    "version": 3
   },
   "file_extension": ".py",
   "mimetype": "text/x-python",
   "name": "python",
   "nbconvert_exporter": "python",
   "pygments_lexer": "ipython3",
   "version": "3.9.8"
  }
 },
 "nbformat": 4,
 "nbformat_minor": 2
}
