{
 "cells": [
  {
   "cell_type": "markdown",
   "metadata": {},
   "source": [
    "<h2>Linear programming: </h2>\n",
    "(1) widely used in engineering (power system network), financial market \n",
    "\n",
    "(2) Used to present many practical problem\n",
    "\n",
    "(3) Elements: A linear objective function \n",
    "\n",
    "The standard form \n",
    "$$ \n",
    "\\begin{align}\n",
    "& \\min f(x) \\\\\n",
    "\\text{s.t} &  ~~ a_1 x \\geq b_1\\\\\n",
    "& a_2 x + c \\geq  b_2\\\\\n",
    "& x \\geq 0\n",
    "\\end{align}$$"
   ]
  },
  {
   "cell_type": "markdown",
   "metadata": {},
   "source": []
  },
  {
   "cell_type": "markdown",
   "metadata": {},
   "source": [
    "<h2>How to generate a linear model by using gurobipy</h2>"
   ]
  },
  {
   "cell_type": "markdown",
   "metadata": {},
   "source": [
    "Step 1: importing gurobipy package\n"
   ]
  },
  {
   "cell_type": "code",
   "execution_count": 1,
   "metadata": {},
   "outputs": [],
   "source": [
    "from gurobipy import*"
   ]
  },
  {
   "cell_type": "markdown",
   "metadata": {},
   "source": [
    "Step 2: Create an optimizaiton model by using this package\n",
    "\n",
    "In this step, we need to explictily model the objective function and its feasibility constraitns.\n",
    "\n",
    "Model constructor: Initially, there is no varaibles and constraints"
   ]
  },
  {
   "cell_type": "code",
   "execution_count": 14,
   "metadata": {},
   "outputs": [],
   "source": [
    "opt_model = Model(name=\"Linear program\")"
   ]
  },
  {
   "cell_type": "markdown",
   "metadata": {},
   "source": [
    "Step 3: add decision variables to a model\n",
    "\n",
    "\n",
    "Model.addVar(lb = 0, #(optional) lower bound \n",
    "\n",
    "ub = float('inf'), #(optional) upper bound\n",
    "\n",
    "obj = 0.0, #(optional) objective coefficient\n",
    "\n",
    "vtype = GRB.Continous, #(optional) variable type\n",
    "\n",
    "name = \"\" ) #(optional) name"
   ]
  },
  {
   "cell_type": "code",
   "execution_count": 15,
   "metadata": {},
   "outputs": [],
   "source": [
    "x = opt_model.addVar(name=\"x\", vtype=GRB.CONTINUOUS, lb = 0)\n",
    "y = opt_model.addVar(name=\"y\", vtype=GRB.CONTINUOUS, lb = 0)"
   ]
  },
  {
   "cell_type": "markdown",
   "metadata": {},
   "source": [
    "In step 4, we will set the model objective functions and constraints"
   ]
  },
  {
   "cell_type": "code",
   "execution_count": 16,
   "metadata": {},
   "outputs": [],
   "source": [
    "obj_fn = 2*x + 3*y\n",
    "opt_model.setObjective(obj_fn, GRB.MINIMIZE)"
   ]
  },
  {
   "cell_type": "code",
   "execution_count": 17,
   "metadata": {},
   "outputs": [],
   "source": [
    "c1 = opt_model.addConstr(x + y >= 8, name = 'c1')\n",
    "c2 = opt_model.addConstr(2*x + y >= 10, name = 'c2')\n",
    "c3 = opt_model.addConstr(x + 4*y >= 11, name = 'c3')\n",
    "\n"
   ]
  },
  {
   "cell_type": "markdown",
   "metadata": {},
   "source": [
    "Model_optimize() # optimze the model\n",
    "Model_write(filename) # write model to a file"
   ]
  },
  {
   "cell_type": "code",
   "execution_count": 18,
   "metadata": {},
   "outputs": [
    {
     "name": "stdout",
     "output_type": "stream",
     "text": [
      "Gurobi Optimizer version 10.0.3 build v10.0.3rc0 (win64)\n",
      "\n",
      "CPU model: 11th Gen Intel(R) Core(TM) i7-11700KF @ 3.60GHz, instruction set [SSE2|AVX|AVX2|AVX512]\n",
      "Thread count: 8 physical cores, 16 logical processors, using up to 16 threads\n",
      "\n",
      "Optimize a model with 3 rows, 2 columns and 6 nonzeros\n",
      "Model fingerprint: 0x63de2d68\n",
      "Coefficient statistics:\n",
      "  Matrix range     [1e+00, 4e+00]\n",
      "  Objective range  [2e+00, 3e+00]\n",
      "  Bounds range     [0e+00, 0e+00]\n",
      "  RHS range        [8e+00, 1e+01]\n",
      "Presolve time: 0.00s\n",
      "Presolved: 3 rows, 2 columns, 6 nonzeros\n",
      "\n",
      "Iteration    Objective       Primal Inf.    Dual Inf.      Time\n",
      "       0    0.0000000e+00   1.850000e+01   0.000000e+00      0s\n",
      "       2    1.7000000e+01   0.000000e+00   0.000000e+00      0s\n",
      "\n",
      "Solved in 2 iterations and 0.01 seconds (0.00 work units)\n",
      "Optimal objective  1.700000000e+01\n"
     ]
    }
   ],
   "source": [
    "opt_model.optimize() # solve the model\n",
    "opt_model.write(\"linear_model.lp\") # output the model to a file of the model "
   ]
  },
  {
   "cell_type": "code",
   "execution_count": 19,
   "metadata": {},
   "outputs": [
    {
     "name": "stdout",
     "output_type": "stream",
     "text": [
      "Objective value: %f 17.0\n",
      "x 7.0\n",
      "y 1.0\n"
     ]
    }
   ],
   "source": [
    "# output the optimal values of the decision variables\n",
    "\n",
    "print('Objective value: %f', obj_fn.getValue())\n",
    "for v in opt_model.getVars():\n",
    "    print(v.varName, v.x)"
   ]
  },
  {
   "cell_type": "code",
   "execution_count": 20,
   "metadata": {},
   "outputs": [
    {
     "name": "stdout",
     "output_type": "stream",
     "text": [
      "x 7\n",
      "y 1\n",
      "Obj: 17\n"
     ]
    }
   ],
   "source": [
    "for v in opt_model.getVars():\n",
    "    print('%s %g' % (v.varName, v.x))\n",
    "\n",
    "print('Obj: %g' % opt_model.objVal)"
   ]
  },
  {
   "cell_type": "markdown",
   "metadata": {},
   "source": [
    "<h2>Mixed Integer Linear Programming</h2>"
   ]
  },
  {
   "cell_type": "code",
   "execution_count": 22,
   "metadata": {},
   "outputs": [
    {
     "name": "stdout",
     "output_type": "stream",
     "text": [
      "Gurobi Optimizer version 10.0.3 build v10.0.3rc0 (win64)\n",
      "\n",
      "CPU model: 11th Gen Intel(R) Core(TM) i7-11700KF @ 3.60GHz, instruction set [SSE2|AVX|AVX2|AVX512]\n",
      "Thread count: 8 physical cores, 16 logical processors, using up to 16 threads\n",
      "\n",
      "Optimize a model with 2 rows, 3 columns and 5 nonzeros\n",
      "Model fingerprint: 0x98886187\n",
      "Variable types: 0 continuous, 3 integer (3 binary)\n",
      "Coefficient statistics:\n",
      "  Matrix range     [1e+00, 3e+00]\n",
      "  Objective range  [1e+00, 2e+00]\n",
      "  Bounds range     [1e+00, 1e+00]\n",
      "  RHS range        [1e+00, 4e+00]\n",
      "Found heuristic solution: objective 2.0000000\n",
      "Presolve removed 2 rows and 3 columns\n",
      "Presolve time: 0.00s\n",
      "Presolve: All rows and columns removed\n",
      "\n",
      "Explored 0 nodes (0 simplex iterations) in 0.00 seconds (0.00 work units)\n",
      "Thread count was 1 (of 16 available processors)\n",
      "\n",
      "Solution count 2: 3 2 \n",
      "\n",
      "Optimal solution found (tolerance 1.00e-04)\n",
      "Best objective 3.000000000000e+00, best bound 3.000000000000e+00, gap 0.0000%\n"
     ]
    }
   ],
   "source": [
    "# Create a new model\n",
    "m = Model(\"mip1\")\n",
    "\n",
    "# Create variables\n",
    "x = m.addVar(vtype=GRB.BINARY, name=\"x\")\n",
    "y = m.addVar(vtype=GRB.BINARY, name=\"y\")\n",
    "z = m.addVar(vtype=GRB.BINARY, name=\"z\")\n",
    "\n",
    "# Set objective\n",
    "m.setObjective(x + y + 2 * z, GRB.MAXIMIZE)\n",
    "\n",
    "# Add constraint: x + 2 y + 3 z <= 4\n",
    "m.addConstr(x + 2 * y + 3 * z <= 4, \"c0\")\n",
    "\n",
    "# Add constraint: x + y >= 1\n",
    "m.addConstr(x + y >= 1, \"c1\")\n",
    "\n",
    "# Optimize model\n",
    "m.optimize()\n",
    "\n"
   ]
  },
  {
   "cell_type": "code",
   "execution_count": 23,
   "metadata": {},
   "outputs": [
    {
     "name": "stdout",
     "output_type": "stream",
     "text": [
      "x 1\n",
      "y 0\n",
      "z 1\n",
      "Obj: 3\n"
     ]
    }
   ],
   "source": [
    "for v in m.getVars():\n",
    "    print('%s %g' % (v.varName, v.x))\n",
    "\n",
    "print('Obj: %g' % m.objVal)"
   ]
  },
  {
   "cell_type": "code",
   "execution_count": null,
   "metadata": {},
   "outputs": [],
   "source": [
    "# Similarly, we aims to solve the following mixed integer linear programing problem\n"
   ]
  },
  {
   "cell_type": "code",
   "execution_count": 27,
   "metadata": {},
   "outputs": [
    {
     "name": "stdout",
     "output_type": "stream",
     "text": [
      "Gurobi Optimizer version 10.0.3 build v10.0.3rc0 (win64)\n",
      "\n",
      "CPU model: 11th Gen Intel(R) Core(TM) i7-11700KF @ 3.60GHz, instruction set [SSE2|AVX|AVX2|AVX512]\n",
      "Thread count: 8 physical cores, 16 logical processors, using up to 16 threads\n",
      "\n",
      "Optimize a model with 3 rows, 3 columns and 7 nonzeros\n",
      "Model fingerprint: 0x8a1c7e4e\n",
      "Variable types: 1 continuous, 2 integer (1 binary)\n",
      "Coefficient statistics:\n",
      "  Matrix range     [1e+00, 2e+00]\n",
      "  Objective range  [1e+00, 3e+00]\n",
      "  Bounds range     [1e+00, 1e+00]\n",
      "  RHS range        [1e+00, 5e+00]\n",
      "Found heuristic solution: objective 3.5000000\n",
      "Presolve removed 3 rows and 3 columns\n",
      "Presolve time: 0.00s\n",
      "Presolve: All rows and columns removed\n",
      "\n",
      "Explored 0 nodes (0 simplex iterations) in 0.01 seconds (0.00 work units)\n",
      "Thread count was 1 (of 16 available processors)\n",
      "\n",
      "Solution count 2: 8.5 3.5 \n",
      "\n",
      "Optimal solution found (tolerance 1.00e-04)\n",
      "Best objective 8.500000000000e+00, best bound 8.500000000000e+00, gap 0.0000%\n"
     ]
    }
   ],
   "source": [
    "# Step 1: importing the gurobipy module\n",
    "from gurobipy import*\n",
    "# Step 2: Create a model\n",
    "milp_model = Model(name=\"Mixed integer linear program\")\n",
    "# Step 3: Create decision variables\n",
    "x = milp_model.addVar(name=\"x\", vtype=GRB.BINARY)\n",
    "y = milp_model.addVar(name=\"y\", vtype=GRB.CONTINUOUS, lb = 0)\n",
    "z = milp_model.addVar(name=\"z\", vtype=GRB.INTEGER, lb = 0)\n",
    "\n",
    "# Step 4: Set the objective function\n",
    "obj_fn = 2*x + y + 3*z\n",
    "milp_model.setObjective(obj_fn, GRB.MAXIMIZE)\n",
    "# Add constraints\n",
    "\n",
    "C1 = milp_model.addConstr(x + 2*y + z <= 4, name = 'C1')\n",
    "C2 = milp_model.addConstr(2 *z + y <= 5, name = 'C2')\n",
    "C3 = milp_model.addConstr(x + y >= 1, name = 'C3')\n",
    "\n",
    "\n",
    "# solve the model\n",
    "milp_model.optimize() "
   ]
  },
  {
   "cell_type": "code",
   "execution_count": 31,
   "metadata": {},
   "outputs": [
    {
     "name": "stdout",
     "output_type": "stream",
     "text": [
      "objective value: 8.50 \n",
      "x 1\n",
      "y 0.5\n",
      "z 2\n"
     ]
    }
   ],
   "source": [
    "# print results\n",
    "print('objective value: %.2f ' % obj_fn.getValue())\n",
    "for v in milp_model.getVars():\n",
    "    print('%s %g' % (v.varName, v.x))"
   ]
  },
  {
   "cell_type": "markdown",
   "metadata": {},
   "source": [
    "<h2>Integer Linear Programming</h2>\n",
    "\n",
    "When decision variables are multi-dimensional, we may need to use `for` loop to express it. In the following, we use binary knapsack problem (Integer programming) to take an example\n"
   ]
  },
  {
   "cell_type": "markdown",
   "metadata": {},
   "source": [
    "<h2>Binary knapsack problem</h2>\n",
    "\n",
    "* Combinatorial optimization problem\n",
    "* Problem of pakcing the most valuable or useful items without overloading the luggage.\n",
    "    * A set of items ($N$ items), each with a weight ($w$) and a value ($v$)\n",
    "    * Maximize the total value possible\n",
    "    * Fixed capacity\n",
    "    \n",
    "\n",
    "\\begin{align}\n",
    "    & maximize ~ \\sum_{i = 1}^{N} v_i x_i \\\\\n",
    "    & \\text{s.t} ~ \\sum_{i = 1}^{N} w_i x_i \\leq C \\\\\n",
    "    & x_i \\in \\{0,1\\}, ~ \\forall i = 1,2,3,4,\\dots,N\n",
    "\\end{align}"
   ]
  },
  {
   "cell_type": "code",
   "execution_count": 37,
   "metadata": {},
   "outputs": [
    {
     "name": "stdout",
     "output_type": "stream",
     "text": [
      "Objective value: 46.000000\n",
      "x[0] 0.0\n",
      "x[1] 0.0\n",
      "x[2] 1.0\n",
      "x[3] 1.0\n",
      "x[4] 1.0\n",
      "x[5] 1.0\n",
      "x[6] 0.0\n",
      "x[7] 0.0\n"
     ]
    }
   ],
   "source": [
    "# Create data: (Cost parameter, weight, value, capacity, number of items)\n",
    "w = [4,2,5,4,5,1,3,5]\n",
    "v = [10,5,18,12,15,1,2,8]\n",
    "C = 15\n",
    "N = len(w)\n",
    "\n",
    "# Importing Gurobipy package\n",
    "\n",
    "from gurobipy import*\n",
    "\n",
    "knapsack_model = Model(name=\"Knapsack problem\")\n",
    "x = knapsack_model.addVars(N, vtype=GRB.BINARY, name=\"x\")\n",
    "obj_fn = quicksum(v[i]*x[i] for i in range(N))\n",
    "knapsack_model.setObjective(obj_fn, GRB.MAXIMIZE)\n",
    "knapsack_model.addConstr(quicksum(w[i]*x[i] for i in range(N)) <= C)\n",
    "knapsack_model.setParam('OutputFlag', False)\n",
    "knapsack_model.optimize()\n",
    "\n",
    "print('Objective value: %f' % obj_fn.getValue())\n",
    "for v in knapsack_model.getVars():\n",
    "    print(v.varName, v.x)"
   ]
  },
  {
   "cell_type": "markdown",
   "metadata": {},
   "source": [
    "<h2>Quadratic programming</h2>\n",
    "\n",
    " * **Quadratic programming was developed in 1950s**\n",
    " * Widely used in \n",
    "    * optimization of financial portfolios \n",
    "    * Image and signal processing\n",
    "    * Regression\n",
    "    * Scheduling in chemical plants etc\n",
    "+ **Solution method**\n",
    "    + Integrior point\n",
    "    + Augmented Lagrange\n",
    "    + Gradient-based \n",
    "    + Extensions of the simplex algorithm\n",
    "\n",
    "\n",
    "\\begin{align}\n",
    "    & \\min \\frac{1}{2} x^{T} Q x + c^{T} x \\\\\n",
    "    & \\text{s.t} Ax \\leq b\n",
    "\\end{align}\n",
    "\n",
    "where $c \\in \\mathbb{R}^{n}$, $Q \\in \\mathbb{R}^{n \\times n}$, $A \\in \\mathbb{R}^{m \\times n}$, $b \\in \\mathbb{R}^{m}$\n",
    "\n",
    "<h2>Coding in python</h2>\n",
    "\n",
    "The model:\n",
    "\n",
    "\n",
    "\\begin{align}\n",
    "    & \\min \\frac{1}{2} z^2 + 2 y^{2} + x^{2} \\\\\n",
    "    & \\text{s.t} x + 3y + 2z \\geq 5\\\\\n",
    "    & y + z \\geq 2.5\\\\\n",
    "    & x,y \\geq 0 \\\\\n",
    "    & y \\in \\mathbb{Z} \\\\\n",
    "    & z \\in \\{0,1\\}\n",
    "\\end{align}\n"
   ]
  },
  {
   "cell_type": "code",
   "execution_count": 42,
   "metadata": {},
   "outputs": [
    {
     "name": "stdout",
     "output_type": "stream",
     "text": [
      "Objective value: 8.500000\n",
      "x 0.0\n",
      "y 2.0\n",
      "z 1.0\n"
     ]
    }
   ],
   "source": [
    "quadra_model = Model(name=\"Quadratic program\")\n",
    "\n",
    "x = quadra_model.addVar(name=\"x\", vtype=GRB.CONTINUOUS, lb = 0)\n",
    "y = quadra_model.addVar(name=\"y\", vtype=GRB.INTEGER, lb = 0)\n",
    "z = quadra_model.addVar(name=\"z\", vtype=GRB.BINARY)\n",
    "\n",
    "obj_fn = 1/2 * z**2 + x**2 + 2*y**2\n",
    "quadra_model.setObjective(obj_fn, GRB.MINIMIZE)\n",
    "c1 = quadra_model.addConstr(x + 3*y + 2*z >= 5, name = 'c1')\n",
    "c2 = quadra_model.addConstr(y + z >= 2.5, name = 'c2')\n",
    "quadra_model.setParam('OutputFlag', False)\n",
    "quadra_model.optimize() # solve the model\n",
    "\n",
    "print('Objective value: %f' % obj_fn.getValue())\n",
    "for v in quadra_model.getVars():\n",
    "    print(v.varName, v.x)"
   ]
  },
  {
   "cell_type": "code",
   "execution_count": 47,
   "metadata": {},
   "outputs": [
    {
     "name": "stdout",
     "output_type": "stream",
     "text": [
      "Objective value: 5.000000\n",
      "x 0.0\n",
      "y 1.5\n",
      "z 1.0\n"
     ]
    }
   ],
   "source": [
    "# If addding another quadratic constraint\n",
    "quadra_model = Model(name=\"Quadratic program\")\n",
    "\n",
    "x = quadra_model.addVar(name=\"x\", vtype=GRB.CONTINUOUS, lb = 0)\n",
    "y = quadra_model.addVar(name=\"y\", vtype=GRB.CONTINUOUS, lb = 0)\n",
    "z = quadra_model.addVar(name=\"z\", vtype=GRB.BINARY)\n",
    "\n",
    "obj_fn = 1/2 * z**2 + x**2 + 2*y**2\n",
    "quadra_model.setObjective(obj_fn, GRB.MINIMIZE)\n",
    "c1 = quadra_model.addConstr(x + 3*y + 2*z >= 5, name = 'c1')\n",
    "c2 = quadra_model.addConstr(y + z >= 2.5, name = 'c2')\n",
    "quadra_model.setParam('OutputFlag', False)\n",
    "quadra_model.optimize() # solve the model\n",
    "\n",
    "print('Objective value: %f' % obj_fn.getValue())\n",
    "for v in quadra_model.getVars():\n",
    "    print(v.varName, v.x)\n"
   ]
  },
  {
   "cell_type": "code",
   "execution_count": 49,
   "metadata": {},
   "outputs": [
    {
     "name": "stdout",
     "output_type": "stream",
     "text": [
      "Objective value: 5.000000\n",
      "x 0.0\n",
      "y 1.5\n",
      "z 1.0\n"
     ]
    }
   ],
   "source": [
    "# If addding another quadratic constraint\n",
    "quadra_model = Model(name=\"Quadratic program\")\n",
    "\n",
    "x = quadra_model.addVar(name=\"x\", vtype=GRB.CONTINUOUS, lb = 0)\n",
    "y = quadra_model.addVar(name=\"y\", vtype=GRB.CONTINUOUS, lb = 0)\n",
    "z = quadra_model.addVar(name=\"z\", vtype=GRB.BINARY)\n",
    "\n",
    "obj_fn = 1/2 * z**2 + x**2 + 2*y**2\n",
    "quadra_model.setObjective(obj_fn, GRB.MINIMIZE)\n",
    "c1 = quadra_model.addConstr(x + 3*y + 2*z >= 5, name = 'c1')\n",
    "c2 = quadra_model.addConstr(y + z >= 2.5, name = 'c2')\n",
    "# c3 = quadra_model.addConstr(z**2 + y**2 <= x**2, name = 'c3')\n",
    "\n",
    "quadra_model.setParam('OutputFlag', False)\n",
    "quadra_model.optimize() # solve the model\n",
    "\n",
    "print('Objective value: %f' % obj_fn.getValue())\n",
    "for v in quadra_model.getVars():\n",
    "    print(v.varName, v.x)"
   ]
  },
  {
   "cell_type": "code",
   "execution_count": 51,
   "metadata": {},
   "outputs": [
    {
     "name": "stdout",
     "output_type": "stream",
     "text": [
      "Objective value: 8.250000\n",
      "x 1.8027756402615691\n",
      "y 1.4999999999858802\n",
      "z 1.0\n"
     ]
    }
   ],
   "source": [
    "quadra_model.addConstr(z**2 + y**2 <= x**2, name = 'c3')\n",
    "quadra_model.optimize() # solve the model\n",
    "\n",
    "print('Objective value: %f' % obj_fn.getValue())\n",
    "for v in quadra_model.getVars():\n",
    "    print(v.varName, v.x)\n"
   ]
  },
  {
   "cell_type": "markdown",
   "metadata": {},
   "source": [
    "<h2>Linear assignment</h2>\n",
    "\n",
    "<h2>Mathematical Formulation</h2>\n",
    "\n",
    "\n",
    "\\begin{align}\n",
    "    & \\min_{x} ~ \\sum_{i}^{n} \\sum_{n} c_{i,j} x_{i,j} \\\\\n",
    "    & \\text{s.t} ~~ \\sum_i^{n} x_{i,j} \\leq 1, ~ \\forall j = 1, \\dots n \\\\\n",
    "    & \\sum_i^{n} x_{j} = 1, ~ \\forall i = 1, \\dots n \\\\\n",
    "    & x_{i,j} \\in \\{0,1\\}, \\forall i,j\n",
    "\\end{align}\n",
    "\n",
    "where $x_{i,j} = 1$ means worker $i performs task $j$, 0 otherwise. Now we are ready to implemtn the following problem as follows:\n"
   ]
  },
  {
   "cell_type": "code",
   "execution_count": 57,
   "metadata": {},
   "outputs": [
    {
     "name": "stdout",
     "output_type": "stream",
     "text": [
      "[[8 4 2 2]\n",
      " [2 1 5 5]\n",
      " [4 2 6 9]\n",
      " [4 1 4 2]]\n",
      "Gurobi Optimizer version 10.0.3 build v10.0.3rc0 (win64)\n",
      "\n",
      "CPU model: 11th Gen Intel(R) Core(TM) i7-11700KF @ 3.60GHz, instruction set [SSE2|AVX|AVX2|AVX512]\n",
      "Thread count: 8 physical cores, 16 logical processors, using up to 16 threads\n",
      "\n",
      "Optimize a model with 8 rows, 16 columns and 32 nonzeros\n",
      "Model fingerprint: 0xe79a4aef\n",
      "Variable types: 0 continuous, 16 integer (16 binary)\n",
      "Coefficient statistics:\n",
      "  Matrix range     [1e+00, 1e+00]\n",
      "  Objective range  [1e+00, 9e+00]\n",
      "  Bounds range     [1e+00, 1e+00]\n",
      "  RHS range        [1e+00, 1e+00]\n",
      "Found heuristic solution: objective 8.0000000\n",
      "Presolve removed 0 rows and 1 columns\n",
      "Presolve time: 0.00s\n",
      "Presolved: 8 rows, 15 columns, 30 nonzeros\n",
      "Variable types: 0 continuous, 15 integer (15 binary)\n",
      "\n",
      "Root relaxation: cutoff, 5 iterations, 0.00 seconds (0.00 work units)\n",
      "\n",
      "    Nodes    |    Current Node    |     Objective Bounds      |     Work\n",
      " Expl Unexpl |  Obj  Depth IntInf | Incumbent    BestBd   Gap | It/Node Time\n",
      "\n",
      "     0     0     cutoff    0         8.00000    8.00000  0.00%     -    0s\n",
      "\n",
      "Explored 1 nodes (5 simplex iterations) in 0.01 seconds (0.00 work units)\n",
      "Thread count was 16 (of 16 available processors)\n",
      "\n",
      "Solution count 1: 8 \n",
      "\n",
      "Optimal solution found (tolerance 1.00e-04)\n",
      "Best objective 8.000000000000e+00, best bound 8.000000000000e+00, gap 0.0000%\n",
      "Model Statistics\n",
      "Objective value: 8.000000\n",
      "\n",
      "\n",
      " Model Output \n",
      "\n",
      "Minimize\n",
      "8.0 x[0,0] + 4.0 x[0,1] + 2.0 x[0,2] + 2.0 x[0,3] + 2.0 x[1,0] + x[1,1] + 5.0 x[1,2]\n",
      "+ 5.0 x[1,3] + 4.0 x[2,0] + 2.0 x[2,1] + 6.0 x[2,2] + 9.0 x[2,3] + 4.0 x[3,0] + x[3,1]\n",
      "+ 4.0 x[3,2] + 2.0 x[3,3]\n",
      "Subject To\n",
      "  workload[0]: x[0,0] + x[1,0] + x[2,0] + x[3,0] <= 1\n",
      "  workload[1]: x[0,1] + x[1,1] + x[2,1] + x[3,1] <= 1\n",
      "  workload[2]: x[0,2] + x[1,2] + x[2,2] + x[3,2] <= 1\n",
      "  workload[3]: x[0,3] + x[1,3] + x[2,3] + x[3,3] <= 1\n",
      "  assignment[0]: x[0,0] + x[0,1] + x[0,2] + x[0,3] = 1\n",
      "  assignment[1]: x[1,0] + x[1,1] + x[1,2] + x[1,3] = 1\n",
      "  assignment[2]: x[2,0] + x[2,1] + x[2,2] + x[2,3] = 1\n",
      "  assignment[3]: x[3,0] + x[3,1] + x[3,2] + x[3,3] = 1\n",
      "Binaries\n",
      "['x[0,0]', 'x[0,1]', 'x[0,2]', 'x[0,3]', 'x[1,0]', 'x[1,1]', 'x[1,2]', 'x[1,3]',\n",
      " 'x[2,0]', 'x[2,1]', 'x[2,2]', 'x[2,3]', 'x[3,0]', 'x[3,1]', 'x[3,2]', 'x[3,3]']\n",
      "None\n"
     ]
    }
   ],
   "source": [
    "# step 1: import the gurobipy module\n",
    "\n",
    "from gurobipy import Model, GRB\n",
    "import numpy as np\n",
    "\n",
    "# generate cost parameter, which is integer value from 1 to 10 with dimension 4 by 4\n",
    "cost = np.random.randint(1, 10, [4,4])\n",
    "print(cost)\n",
    "\n",
    "assignment_model = Model('Assignment problem')\n",
    "\n",
    "# Step 3: Create decision variables\n",
    "# first two arguments are the dimension of the decision variables\n",
    "# vtype=GRB.BINARY means the decision variables are binary\n",
    "# name=\"x\" is the name of the decision variables\n",
    "x = assignment_model.addVars(cost.shape[0], cost.shape[1], vtype=GRB.BINARY, name=\"x\")\n",
    "\n",
    "# step 4: Set the objective function\n",
    "obj_fn = sum(cost[i,j] * x[i,j] for i in range(cost.shape[0]) for j in range(cost.shape[1]))\n",
    "assignment_model.setObjective(obj_fn, GRB.MINIMIZE)\n",
    "\n",
    "# step 5: Add constraints\n",
    "# sum_{j = 1}^{n}  x_{i,j} <= 1 for i = 1, 2, ..., n\n",
    "assignment_model.addConstrs((sum(x[i,j] for i in range(cost.shape[0])) <= 1 for j in range(cost.shape[1])), name = 'workload')\n",
    "# sum_{i = 1}^{n}  x_{i,j} <= 1 for j = 1, 2, ..., n\n",
    "assignment_model.addConstrs((sum(x[i,j] for j in range(cost.shape[1])) == 1 for i in range(cost.shape[0])), name = 'assignment')\n",
    "\n",
    "assignment_model.setParam('OutputFlag', True)\n",
    "assignment_model.optimize()\n",
    "\n",
    "print('Model Statistics')\n",
    "\n",
    "print('Objective value: %f' % obj_fn.getValue())\n",
    "print('\\n\\n Model Output \\n')\n",
    "print(assignment_model.display())"
   ]
  },
  {
   "cell_type": "code",
   "execution_count": 48,
   "metadata": {},
   "outputs": [
    {
     "name": "stdout",
     "output_type": "stream",
     "text": [
      "Objective value: 14.000000\n",
      "x[0,0] 1\n",
      "x[0,1] 0\n",
      "x[0,2] -0\n",
      "x[0,3] 0\n",
      "x[1,0] -0\n",
      "x[1,1] -0\n",
      "x[1,2] 1\n",
      "x[1,3] -0\n",
      "x[2,0] -0\n",
      "x[2,1] 1\n",
      "x[2,2] 0\n",
      "x[2,3] -0\n",
      "x[3,0] -0\n",
      "x[3,1] -0\n",
      "x[3,2] -0\n",
      "x[3,3] 1\n"
     ]
    }
   ],
   "source": [
    "print('Objective value: %f' % assignment_model.objVal)\n",
    "\n",
    "for v in assignment_model.getVars():\n",
    "    print('%s %g' % (v.varName, v.x))"
   ]
  },
  {
   "cell_type": "code",
   "execution_count": 59,
   "metadata": {},
   "outputs": [
    {
     "name": "stdout",
     "output_type": "stream",
     "text": [
      "Gurobi Optimizer version 10.0.3 build v10.0.3rc0 (win64)\n",
      "\n",
      "CPU model: 11th Gen Intel(R) Core(TM) i7-11700KF @ 3.60GHz, instruction set [SSE2|AVX|AVX2|AVX512]\n",
      "Thread count: 8 physical cores, 16 logical processors, using up to 16 threads\n",
      "\n",
      "Optimize a model with 8 rows, 16 columns and 32 nonzeros\n",
      "Model fingerprint: 0xc388a71f\n",
      "Coefficient statistics:\n",
      "  Matrix range     [1e+00, 1e+00]\n",
      "  Objective range  [1e+00, 9e+00]\n",
      "  Bounds range     [1e+00, 1e+00]\n",
      "  RHS range        [1e+00, 1e+00]\n",
      "Presolve time: 0.00s\n",
      "Presolved: 8 rows, 16 columns, 32 nonzeros\n",
      "\n",
      "Iteration    Objective       Primal Inf.    Dual Inf.      Time\n",
      "       0    6.0000000e+00   2.000000e+00   0.000000e+00      0s\n",
      "       2    8.0000000e+00   0.000000e+00   0.000000e+00      0s\n",
      "\n",
      "Solved in 2 iterations and 0.01 seconds (0.00 work units)\n",
      "Optimal objective  8.000000000e+00\n",
      "Model Statistics\n",
      "Objective value: 8.000000\n",
      "\n",
      "\n",
      " Model Output \n",
      "\n",
      "Minimize\n",
      "8.0 y[0,0] + 4.0 y[0,1] + 2.0 y[0,2] + 2.0 y[0,3] + 2.0 y[1,0] + y[1,1] + 5.0 y[1,2]\n",
      "+ 5.0 y[1,3] + 4.0 y[2,0] + 2.0 y[2,1] + 6.0 y[2,2] + 9.0 y[2,3] + 4.0 y[3,0] + y[3,1]\n",
      "+ 4.0 y[3,2] + 2.0 y[3,3]\n",
      "Subject To\n",
      "  workload_constr[0]: y[0,0] + y[1,0] + y[2,0] + y[3,0] <= 1\n",
      "  workload_constr[1]: y[0,1] + y[1,1] + y[2,1] + y[3,1] <= 1\n",
      "  workload_constr[2]: y[0,2] + y[1,2] + y[2,2] + y[3,2] <= 1\n",
      "  workload_constr[3]: y[0,3] + y[1,3] + y[2,3] + y[3,3] <= 1\n",
      "  assignment_constr[0]: y[0,0] + y[0,1] + y[0,2] + y[0,3] = 1\n",
      "  assignment_constr[1]: y[1,0] + y[1,1] + y[1,2] + y[1,3] = 1\n",
      "  assignment_constr[2]: y[2,0] + y[2,1] + y[2,2] + y[2,3] = 1\n",
      "  assignment_constr[3]: y[3,0] + y[3,1] + y[3,2] + y[3,3] = 1\n",
      "Bounds\n",
      "  0 <= y[0,0] <= 1\n",
      "  0 <= y[0,1] <= 1\n",
      "  0 <= y[0,2] <= 1\n",
      "  0 <= y[0,3] <= 1\n",
      "  0 <= y[1,0] <= 1\n",
      "  0 <= y[1,1] <= 1\n",
      "  0 <= y[1,2] <= 1\n",
      "  0 <= y[1,3] <= 1\n",
      "  0 <= y[2,0] <= 1\n",
      "  0 <= y[2,1] <= 1\n",
      "  0 <= y[2,2] <= 1\n",
      "  0 <= y[2,3] <= 1\n",
      "  0 <= y[3,0] <= 1\n",
      "  0 <= y[3,1] <= 1\n",
      "  0 <= y[3,2] <= 1\n",
      "  0 <= y[3,3] <= 1\n",
      "None\n"
     ]
    }
   ],
   "source": [
    "# step 1: import the gurobipy module\n",
    "\n",
    "assignment_model_new = Model('Assignment')\n",
    "\n",
    "# Step 3: Create decision variables\n",
    "# first two arguments are the dimension of the decision variables\n",
    "# vtype=GRB.BINARY means the decision variables are binary\n",
    "# name=\"x\" is the name of the decision variables\n",
    "y = assignment_model_new.addVars(cost.shape[0], cost.shape[1], vtype=GRB.CONTINUOUS, lb = 0, ub = 1, name=\"y\")\n",
    "\n",
    "# step 4: Set the objective function\n",
    "obj_fn = sum(cost[i,j] * y[i,j] for i in range(cost.shape[0]) for j in range(cost.shape[1]))\n",
    "assignment_model_new.setObjective(obj_fn, GRB.MINIMIZE)\n",
    "\n",
    "# step 5: Add constraints\n",
    "# sum_{j = 1}^{n}  y_{i,j} <= 1 for i = 1, 2, ..., n\n",
    "assignment_model_new.addConstrs((sum(y[i,j] for i in range(cost.shape[0])) <= 1 for j in range(cost.shape[1])), name = 'workload_constr')\n",
    "# sum_{i = 1}^{n}  y_{i,j} <= 1 for j = 1, 2, ..., n\n",
    "assignment_model_new.addConstrs((sum(y[i,j] for j in range(cost.shape[1])) == 1 for i in range(cost.shape[0])), name = 'assignment_constr')\n",
    "\n",
    "assignment_model_new.setParam('OutputFlag', True)\n",
    "assignment_model_new.optimize()\n",
    "\n",
    "print('Model Statistics')\n",
    "print('Objective value: %f' % obj_fn.getValue())\n",
    "print('\\n\\n Model Output \\n')\n",
    "print(assignment_model_new.display())\n"
   ]
  },
  {
   "cell_type": "code",
   "execution_count": 67,
   "metadata": {},
   "outputs": [
    {
     "name": "stdout",
     "output_type": "stream",
     "text": [
      "Objective value: 8.000000\n",
      "y[0,0] 0\n",
      "y[0,1] 0\n",
      "y[0,2] 1\n",
      "y[0,3] 0\n",
      "y[1,0] 1\n",
      "y[1,1] 0\n",
      "y[1,2] 0\n",
      "y[1,3] 0\n",
      "y[2,0] 0\n",
      "y[2,1] 1\n",
      "y[2,2] 0\n",
      "y[2,3] 0\n",
      "y[3,0] 0\n",
      "y[3,1] 0\n",
      "y[3,2] 0\n",
      "y[3,3] 1\n"
     ]
    }
   ],
   "source": [
    "print('Objective value: %f' % assignment_model_new.objVal)\n",
    "\n",
    "for v in assignment_model_new.getVars():\n",
    "    print('%s %g' % (v.varName, v.x))"
   ]
  },
  {
   "cell_type": "markdown",
   "metadata": {},
   "source": []
  }
 ],
 "metadata": {
  "kernelspec": {
   "display_name": "Python 3",
   "language": "python",
   "name": "python3"
  },
  "language_info": {
   "codemirror_mode": {
    "name": "ipython",
    "version": 3
   },
   "file_extension": ".py",
   "mimetype": "text/x-python",
   "name": "python",
   "nbconvert_exporter": "python",
   "pygments_lexer": "ipython3",
   "version": "3.9.8"
  }
 },
 "nbformat": 4,
 "nbformat_minor": 2
}
