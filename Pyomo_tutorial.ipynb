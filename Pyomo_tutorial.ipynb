{
 "cells": [
  {
   "cell_type": "markdown",
   "metadata": {},
   "source": [
    "<h2>Optimization in Python: Pyomo tutorial<h2>"
   ]
  },
  {
   "cell_type": "markdown",
   "metadata": {},
   "source": [
    "Q1: What is Pyomo?\n",
    "\n",
    "- **Pyomo**: Python optimizaiton Modeling Objects\n",
    "- framework for defining optimization models, not a solver!\n",
    "- actively developed at Sandia National Laboratories\n",
    "- part of the COIN-OR project"
   ]
  },
  {
   "cell_type": "markdown",
   "metadata": {},
   "source": [
    "Q2: What are Pros & Cons of using Pyomo?\n",
    "\n",
    "**Pros**: \n",
    "- (1) free as in beer.\n",
    "- (2) cross platform which can be developed under Windows, Linux, and Mac\n",
    "- (3) Supports many open source and commercial solvers\n",
    "- (4) Supports declarative and imperative programming paradigm\n",
    "\n",
    "**Cons**: \n",
    "- No built-in support for matrix/vector operation\n",
    "- clunky handling of \"jagged\" sets \n",
    "- scalability issues\n",
    "- limited support for fine-grain, solver-specific features\n",
    "- more programming centric than some other modeling languages\n",
    "\n",
    "In Pyomo, we also need to setup paramets, sets, variable constraints objective.\n"
   ]
  },
  {
   "cell_type": "code",
   "execution_count": 54,
   "metadata": {},
   "outputs": [],
   "source": [
    "import pyomo.environ as pyo\n",
    "import pyomo.environ as pe \n",
    "import pyomo.opt as po\n",
    "import numpy as np\n",
    "import gurobipy as grb\n",
    "import pulp\n",
    "\n"
   ]
  },
  {
   "cell_type": "code",
   "execution_count": 55,
   "metadata": {},
   "outputs": [],
   "source": [
    "solver = po.SolverFactory('cplex') # GNU linear programming kit\n",
    "\n"
   ]
  },
  {
   "cell_type": "markdown",
   "metadata": {},
   "source": [
    "# Create a model for the following binary knapsack instance\n",
    "\n",
    "\n",
    "\\begin{align}\n",
    "    & \\max_{x_1, x_2, \\dots, x_5} 3x_1 + 4x_2 + 5x_3 + 8x_4 + 9x_5\\\\\n",
    "    & s.t ~~ 2x_1 + 3x_2 + 4x_3 + 7x_4 + 9x_5 \\leq 20 \\\\\n",
    "    & x_1, \\dots, x_5 \\in \\{0,1\\}\n",
    "\\end{align}\n"
   ]
  },
  {
   "cell_type": "code",
   "execution_count": 56,
   "metadata": {},
   "outputs": [
    {
     "name": "stdout",
     "output_type": "stream",
     "text": [
      "\n",
      "Welcome to IBM(R) ILOG(R) CPLEX(R) Interactive Optimizer Community Edition 22.1.1.0\n",
      "  with Simplex, Mixed Integer & Barrier Optimizers\n",
      "5725-A06 5725-A29 5724-Y48 5724-Y49 5724-Y54 5724-Y55 5655-Y21\n",
      "Copyright IBM Corp. 1988, 2022.  All Rights Reserved.\n",
      "\n",
      "Type 'help' for a list of available commands.\n",
      "Type 'help' followed by a command name for more\n",
      "information on commands.\n",
      "\n",
      "CPLEX> Logfile 'cplex.log' closed.\n",
      "Logfile 'C:\\Users\\jiami\\AppData\\Local\\Temp\\tmpkksmdbxm.cplex.log' open.\n",
      "CPLEX> Problem 'C:\\Users\\jiami\\AppData\\Local\\Temp\\tmphvdyque9.pyomo.lp' read.\n",
      "Read time = 0.00 sec. (0.00 ticks)\n",
      "CPLEX> Problem name         : C:\\Users\\jiami\\AppData\\Local\\Temp\\tmphvdyque9.pyomo.lp\n",
      "Objective sense      : Maximize\n",
      "Variables            :       6  [Nneg: 1,  Binary: 5]\n",
      "Objective nonzeros   :       5\n",
      "Linear constraints   :       2  [Less: 1,  Equal: 1]\n",
      "  Nonzeros           :       6\n",
      "  RHS nonzeros       :       2\n",
      "\n",
      "Variables            : Min LB: 0.000000         Max UB: 1.000000       \n",
      "Objective nonzeros   : Min   : 3.000000         Max   : 9.000000       \n",
      "Linear constraints   :\n",
      "  Nonzeros           : Min   : 1.000000         Max   : 9.000000       \n",
      "  RHS nonzeros       : Min   : 1.000000         Max   : 20.00000       \n",
      "CPLEX> Version identifier: 22.1.1.0 | 2022-11-26 | 9160aff4d\n",
      "Found incumbent of value 0.000000 after 0.00 sec. (0.00 ticks)\n",
      "Tried aggregator 1 time.\n",
      "MIP Presolve eliminated 2 rows and 1 columns.\n",
      "MIP Presolve added 1 rows and 1 columns.\n",
      "MIP Presolve modified 5 coefficients.\n",
      "Reduced MIP has 1 rows, 6 columns, and 6 nonzeros.\n",
      "Reduced MIP has 5 binaries, 1 generals, 0 SOSs, and 0 indicators.\n",
      "Presolve time = 0.00 sec. (0.01 ticks)\n",
      "Probing time = 0.00 sec. (0.00 ticks)\n",
      "Tried aggregator 1 time.\n",
      "MIP Presolve eliminated 1 rows and 1 columns.\n",
      "MIP Presolve added 1 rows and 1 columns.\n",
      "Reduced MIP has 1 rows, 6 columns, and 6 nonzeros.\n",
      "Reduced MIP has 5 binaries, 1 generals, 0 SOSs, and 0 indicators.\n",
      "Presolve time = 0.00 sec. (0.00 ticks)\n",
      "Probing time = 0.00 sec. (0.00 ticks)\n",
      "MIP emphasis: balance optimality and feasibility.\n",
      "MIP search method: dynamic search.\n",
      "Parallel mode: deterministic, using up to 16 threads.\n",
      "Root relaxation solution time = 0.00 sec. (0.00 ticks)\n",
      "\n",
      "        Nodes                                         Cuts/\n",
      "   Node  Left     Objective  IInf  Best Integer    Best Bound    ItCnt     Gap\n",
      "\n",
      "*     0+    0                            0.0000       29.0000              --- \n",
      "*     0+    0                           22.0000       29.0000            31.82%\n",
      "      0     0        cutoff             22.0000       22.0000        1    0.00%\n",
      "      0     0        cutoff             22.0000       22.0000        1    0.00%\n",
      "Elapsed time = 0.00 sec. (0.03 ticks, tree = 0.01 MB, solutions = 2)\n",
      "\n",
      "Root node processing (before b&c):\n",
      "  Real time             =    0.01 sec. (0.03 ticks)\n",
      "Parallel b&c, 16 threads:\n",
      "  Real time             =    0.00 sec. (0.00 ticks)\n",
      "  Sync time (average)   =    0.00 sec.\n",
      "  Wait time (average)   =    0.00 sec.\n",
      "                          ------------\n",
      "Total (root+branch&cut) =    0.01 sec. (0.03 ticks)\n",
      "\n",
      "Solution pool: 2 solutions saved.\n",
      "\n",
      "MIP - Integer optimal solution:  Objective =  2.2000000000e+01\n",
      "Solution time =    0.01 sec.  Iterations = 1  Nodes = 0\n",
      "Deterministic time = 0.03 ticks  (2.10 ticks/sec)\n",
      "\n",
      "CPLEX> Incumbent solution written to file 'C:\\Users\\jiami\\AppData\\Local\\Temp\\tmpd41z1wus.cplex.sol'.\n",
      "CPLEX> 0.0\n",
      "0.0\n",
      "1.0\n",
      "1.0\n",
      "1.0\n",
      "22.0\n"
     ]
    }
   ],
   "source": [
    "\n",
    "# specify the model\n",
    "model = pe.ConcreteModel()\n",
    "# specify the decision variables\n",
    "model.x1 = pe.Var(domain=pe.Binary)\n",
    "model.x2 = pe.Var(domain=pe.Binary)\n",
    "model.x3 = pe.Var(domain=pe.Binary)\n",
    "model.x4 = pe.Var(domain=pe.Binary)\n",
    "model.x5 = pe.Var(domain=pe.Binary)\n",
    "\n",
    "# specify the objective\n",
    "obj = 3*model.x1 + 4*model.x2 + 5*model.x3 + 8*model.x4 + 9*model.x5\n",
    "# sense of the optimization => maximize\n",
    "# expr = expression of objective function\n",
    "model.obj = pe.Objective(sense=pe.maximize, expr = obj)\n",
    "constr = 2 * model.x1 + 3 * model.x2 + 4 * model.x3 + 7 * model.x4 + 9 * model.x5 <= 20\n",
    "model.con = pe.Constraint(expr=constr)\n",
    "\n",
    "results = solver.solve(model, tee=True)\n",
    "print(pe.value(model.x1))\n",
    "print(pe.value(model.x2))\n",
    "print(pe.value(model.x3))\n",
    "print(pe.value(model.x4))\n",
    "print(pe.value(model.x5))\n",
    "print(pe.value(model.obj))"
   ]
  },
  {
   "cell_type": "markdown",
   "metadata": {},
   "source": [
    "The best way to use Pyomo is to implement the general form of the problem. The instance above is generalized by the formulation below.\n",
    "\\begin{align}\n",
    "    & \\max_{x} \\sum_{i} c_i x_i\\\\\n",
    "    & s.t ~~ \\sum_{i} a_i x_i \\leq b \\\\\n",
    "    & x_i\\in \\{0,1\\}\n",
    "\\end{align}"
   ]
  },
  {
   "cell_type": "code",
   "execution_count": 70,
   "metadata": {},
   "outputs": [
    {
     "name": "stdout",
     "output_type": "stream",
     "text": [
      "1.0\n",
      "1.0\n",
      "1.0\n",
      "1.0\n",
      "1.0\n",
      "3.0885892287440013\n"
     ]
    }
   ],
   "source": [
    "model = pe.ConcreteModel()\n",
    "model.N = pe.RangeSet(1,5)\n",
    "c = np.random.rand(5)\n",
    "a = np.random.rand(5)\n",
    "c_dict = {i+1: value for i, value in enumerate(c)}\n",
    "a_dict = {i+1: value for i, value in enumerate(a)}\n",
    "b = 20\n",
    "\n",
    "model.c = pe.Param(model.N, initialize = c_dict)\n",
    "model.a = pe.Param(model.N, initialize = a_dict)\n",
    "model.b = pe.Param(initialize = b)\n",
    "\n",
    "# print(model.c)\n",
    "# print(model.a)\n",
    "# print(model.b.value)\n",
    "\n",
    "model.x = pe.Var(model.N, domain=pe.Binary)\n",
    "obj_expr = sum(model.c[i] * model.x[i] for i in model.N)\n",
    "model.obj = pe.Objective(expr = obj_expr, sense=pe.maximize)\n",
    "\n",
    "constr_expr = sum(model.a[i] * model.x[i] for i in model.N) <= model.b\n",
    "model.constr = pe.Constraint(expr = constr_expr)\n",
    "\n",
    "results = solver.solve(model)\n",
    "\n",
    "\n",
    "for i in model.N:\n",
    "    print(pe.value(model.x[i])) \n",
    "print(pe.value(model.obj))\n"
   ]
  }
 ],
 "metadata": {
  "kernelspec": {
   "display_name": "Python 3",
   "language": "python",
   "name": "python3"
  },
  "language_info": {
   "codemirror_mode": {
    "name": "ipython",
    "version": 3
   },
   "file_extension": ".py",
   "mimetype": "text/x-python",
   "name": "python",
   "nbconvert_exporter": "python",
   "pygments_lexer": "ipython3",
   "version": "3.9.8"
  }
 },
 "nbformat": 4,
 "nbformat_minor": 2
}
